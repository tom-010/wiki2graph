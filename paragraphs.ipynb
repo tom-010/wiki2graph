{
 "cells": [
  {
   "cell_type": "code",
   "execution_count": 2,
   "metadata": {},
   "outputs": [],
   "source": [
    "from pathlib import Path\n",
    "\n",
    "path = Path('data/wiki_json/000')\n",
    "assert path.exists(), f'{path} does not exist'\n"
   ]
  },
  {
   "cell_type": "code",
   "execution_count": 19,
   "metadata": {},
   "outputs": [],
   "source": [
    "import logging\n",
    "logging.basicConfig(level=logging.INFO, format='%(asctime)s - %(levelname)s - %(message)s')\n",
    "logger = logging.getLogger(__name__)"
   ]
  },
  {
   "cell_type": "code",
   "execution_count": 14,
   "metadata": {},
   "outputs": [],
   "source": [
    "driver = GraphDatabase.driver(\"bolt://localhost:7687\", auth=(\"neo4j\", \"password\"))"
   ]
  },
  {
   "cell_type": "code",
   "execution_count": 15,
   "metadata": {},
   "outputs": [],
   "source": [
    "def run_cypher_query(driver: Driver, query: str) -> None:\n",
    "    \"\"\"\n",
    "    Run a Cypher query on the provided Neo4j driver.\n",
    "\n",
    "    :param driver: Neo4j driver instance.\n",
    "    :param query: Cypher query string.\n",
    "    \"\"\"\n",
    "    with driver.session() as session:\n",
    "        session.run(query)\n",
    "\n",
    "def clear_database(driver: Driver) -> None:\n",
    "    \"\"\"\n",
    "    Clear all nodes and relationships in the Neo4j database.\n",
    "    This may not work with too many nodes as Neo4j may run out of memory.\n",
    "\n",
    "    :param driver: Neo4j driver instance.\n",
    "    \"\"\"\n",
    "    with driver.session() as session:\n",
    "        session.run(\"MATCH (n) DETACH DELETE n\")\n",
    "    logger.info(\"All nodes and relationships deleted from the database.\")"
   ]
  },
  {
   "cell_type": "code",
   "execution_count": 20,
   "metadata": {},
   "outputs": [
    {
     "name": "stderr",
     "output_type": "stream",
     "text": [
      "2024-09-06 07:05:56,348 - INFO - All nodes and relationships deleted from the database.\n"
     ]
    }
   ],
   "source": [
    "clear_database(driver)"
   ]
  },
  {
   "cell_type": "code",
   "execution_count": 22,
   "metadata": {},
   "outputs": [
    {
     "name": "stderr",
     "output_type": "stream",
     "text": [
      "2024-09-06 07:06:13,740 - INFO - All nodes and relationships deleted from the database.\n"
     ]
    }
   ],
   "source": [
    "def clear():\n",
    "    clear_database(driver)\n",
    "\n",
    "    queries = [\n",
    "        \"CREATE INDEX FOR (a:Article) ON a.title;\",\n",
    "        \"CREATE INDEX FOR (a:Author) ON a.id;\",\n",
    "        'CREATE INDEX FOR (s:Section) ON (s.id);'\n",
    "        \"CREATE INDEX FOR (c:CATEGORY) ON c.title;\",\n",
    "    ]\n",
    "    with driver.session() as session:\n",
    "        for query in queries:\n",
    "            try:\n",
    "                session.run(query)\n",
    "            except:\n",
    "                ...\n",
    "\n",
    "clear()"
   ]
  },
  {
   "cell_type": "code",
   "execution_count": 23,
   "metadata": {},
   "outputs": [],
   "source": [
    "def import_data(driver: Driver, csv_dir: str, csv_files:list[Path], query_template: str) -> None:\n",
    "    \"\"\"\n",
    "    Generic function to import data from CSV files using a Cypher query.\n",
    "\n",
    "    :param driver: Neo4j driver instance.\n",
    "    :param csv_dir: Directory containing CSV files.\n",
    "    :param pattern: Glob pattern to match the relevant CSV files.\n",
    "    :param query_template: Cypher query template with placeholders for file paths.\n",
    "    \"\"\"\n",
    "    if not csv_files:\n",
    "        logger.warning(f\"No files found for pattern: {pattern}\")\n",
    "        return\n",
    "\n",
    "    for csv_file in tqdm(csv_files, desc=f\"Importing {pattern}\"):\n",
    "        csv_file_path = csv_file.as_posix()\n",
    "        query = query_template.format(csv_file_path=csv_file_path)\n",
    "        try:\n",
    "            run_cypher_query(driver, query)\n",
    "            logger.info(f\"Successfully imported {csv_file_path}\")\n",
    "        except Exception as e:\n",
    "            logger.error(f\"Error importing {csv_file_path}: {e}\")"
   ]
  },
  {
   "cell_type": "code",
   "execution_count": 24,
   "metadata": {},
   "outputs": [],
   "source": [
    "def get_authors(info):\n",
    "    \"\"\"\n",
    "    Extract author information from a JSON 'info' dictionary.\n",
    "\n",
    "    :param info: JSON dictionary containing 'authors' data.\n",
    "    :return: List of tuples (author_id, author_name).\n",
    "    \"\"\"\n",
    "    res = []\n",
    "    for author in info[\"authors\"]:\n",
    "        author_id = author.get('id') or author.get('name')\n",
    "        author_name = author.get('name') or author.get('id')\n",
    "        if author_id:\n",
    "            res.append((author_id, author_name))\n",
    "    return res\n",
    "\n",
    "def save_csv(objects, path, *args, **kwargs):\n",
    "    pd.DataFrame(objects, *args, **kwargs).to_csv(path, index=False, escapechar='\\\\')"
   ]
  },
  {
   "cell_type": "code",
   "execution_count": 49,
   "metadata": {},
   "outputs": [],
   "source": [
    "\n",
    "path = Path('data/wiki_json/000/')\n",
    "csv_dir = Path('data/csv')\n",
    "\n",
    "articles = []\n",
    "persons = set()\n",
    "article_links = []\n",
    "author_links = []\n",
    "redirects = []\n",
    "categories = []\n",
    "article_to_category = []\n",
    "other_nodes = []\n",
    "sections = []\n",
    "section_links = []\n",
    "article_to_section_links = []\n",
    "\n",
    "# Iterate through all JSON files in the directory\n",
    "for file in path.rglob('*.json'):\n",
    "    try:\n",
    "        data = json.loads(file.read_text())\n",
    "    except json.decoder.JSONDecodeError as e:\n",
    "        logger.error(f\"Error decoding JSON {file}: {e}\")\n",
    "\n",
    "    info = data[\"info\"]\n",
    "\n",
    "    # Special case for redirect pages\n",
    "    if data[\"type\"] == \"redirect\":\n",
    "        target = data[\"target\"].split('#')[0]\n",
    "        redirects.append({\n",
    "            \"from\": data[\"info\"][\"title\"],\n",
    "            \"to\": target\n",
    "        })\n",
    "        continue\n",
    "\n",
    "    if info[\"info\"][\"namespace\"] == 14:\n",
    "        # handle category\n",
    "        categories.append({\n",
    "            \"id\": info[\"info\"][\"id\"],\n",
    "            \"title\": 'Kategorie:' + info[\"title\"],\n",
    "            \"type\": data[\"type\"],\n",
    "            \"namespace_id\": info[\"info\"][\"namespace\"],\n",
    "            \"namespace_name\": info[\"namespace\"][\"name\"],\n",
    "            \"namespace_type\": info[\"namespace\"][\"type\"],\n",
    "            \"parent_id\": info[\"parent_id\"],\n",
    "            \"timestamp\": info[\"timestamp\"],\n",
    "            \"sha1\": info[\"sha1\"],\n",
    "            \"path\": info[\"bucket\"] + '/' + info[\"file_name\"]\n",
    "        })\n",
    "        continue\n",
    "    \n",
    "    for section in data.get('sections', []):\n",
    "        s = section['section']\n",
    "        s['title'] = s['title'].strip()\n",
    "        s['id'] = f\"{info['title']}#{s['title']}\"[:400]\n",
    "\n",
    "        sections.append(s)\n",
    "\n",
    "        section_links.append({\n",
    "            \"from\": s['id'],\n",
    "            \"to\": info['title']\n",
    "        })\n",
    "\n",
    "\n",
    "\n",
    "    # Collect article data\n",
    "\n",
    "    articles.append({\n",
    "        \"id\": info[\"info\"][\"id\"],\n",
    "        \"title\": info[\"title\"],\n",
    "        \"type\": data[\"type\"],\n",
    "        \"namespace_id\": info[\"info\"][\"namespace\"],\n",
    "        \"namespace_name\": info[\"namespace\"][\"name\"],\n",
    "        \"namespace_type\": info[\"namespace\"][\"type\"],\n",
    "        \"parent_id\": info[\"parent_id\"],\n",
    "        \"timestamp\": info[\"timestamp\"],\n",
    "        \"sha1\": info[\"sha1\"],\n",
    "        \"path\": info[\"bucket\"] + '/' + info[\"file_name\"]\n",
    "    })\n",
    "\n",
    "    # Collect author data\n",
    "    authors = get_authors(info)\n",
    "    persons.update(authors)\n",
    "    for author in authors:\n",
    "        author_links.append({\n",
    "            \"article\": info[\"title\"],\n",
    "            \"person\": author[0]\n",
    "        })\n",
    "\n",
    "    # Collect article links\n",
    "    for target, _ in data[\"links\"]:\n",
    "\n",
    "        # Special case for section links\n",
    "        if '#' in target:\n",
    "            article_to_section_links.append({\n",
    "                \"article\": info[\"title\"],\n",
    "                \"section\": target[:400]\n",
    "            })\n",
    "\n",
    "            target = target.split('#')[0]\n",
    "            if not target:\n",
    "                continue\n",
    "\n",
    "        \n",
    "        article_links.append({\n",
    "            \"from\": info[\"title\"],\n",
    "            \"to\": target\n",
    "        })\n",
    "\n",
    "\n",
    "    for category in data.get('categories', []):\n",
    "        category_title = f'Kategorie:{category}'\n",
    "        article_to_category.append({\n",
    "            \"article\": info[\"title\"],\n",
    "            \"category\": category_title\n",
    "        })\n",
    "\n",
    "\n",
    "# Save the collected data as CSV files\n",
    "target = csv_dir / path.name\n",
    "target.mkdir(exist_ok=True, parents=True)\n",
    "\n",
    "save_csv(articles, target / 'articles.csv')\n",
    "save_csv(list(persons), target / 'persons.csv', columns=[\"id\", \"name\"])\n",
    "save_csv(article_links, target / 'article_links.csv')\n",
    "save_csv(author_links, target / 'author_links.csv')\n",
    "save_csv(redirects, target / 'redirects.csv')\n",
    "save_csv(categories, target / 'categories.csv')\n",
    "save_csv(article_to_category, target / 'article_to_category.csv')\n",
    "save_csv(sections, target / 'sections.csv')\n",
    "save_csv(section_links, target / 'section_links.csv')\n",
    "save_csv(article_to_section_links, target / 'article_to_section_links.csv')"
   ]
  },
  {
   "cell_type": "code",
   "execution_count": 72,
   "metadata": {},
   "outputs": [],
   "source": [
    "path = Path('data/csv/000')"
   ]
  },
  {
   "cell_type": "code",
   "execution_count": 68,
   "metadata": {},
   "outputs": [],
   "source": [
    "def run_cypher_query(driver: Driver, query: str) -> None:\n",
    "    \"\"\"\n",
    "    Run a Cypher query on the provided Neo4j driver.\n",
    "\n",
    "    :param driver: Neo4j driver instance.\n",
    "    :param query: Cypher query string.\n",
    "    \"\"\"\n",
    "    with driver.session() as session:\n",
    "        return session.run(query)\n",
    "\n",
    "def clear_database(driver: Driver) -> None:\n",
    "    \"\"\"\n",
    "    Clear all nodes and relationships in the Neo4j database.\n",
    "    This may not work with too many nodes as Neo4j may run out of memory.\n",
    "\n",
    "    :param driver: Neo4j driver instance.\n",
    "    \"\"\"\n",
    "    with driver.session() as session:\n",
    "        session.run(\"MATCH (n) DETACH DELETE n\")\n",
    "    logger.info(\"All nodes and relationships deleted from the database.\")\n",
    "\n",
    "def import_data(driver: Driver, csv_files: list[Path], query_template: str) -> None:\n",
    "    \"\"\"\n",
    "    Generic function to import data from CSV files using a Cypher query.\n",
    "\n",
    "    :param driver: Neo4j driver instance.\n",
    "    :param csv_dir: Directory containing CSV files.\n",
    "    :param pattern: Glob pattern to match the relevant CSV files.\n",
    "    :param query_template: Cypher query template with placeholders for file paths.\n",
    "    \"\"\"\n",
    "    for csv_file in tqdm(list(csv_files)):\n",
    "        csv_file_path = csv_file.as_posix()\n",
    "        query = query_template.format(csv_file_path=csv_file_path)\n",
    "        try:\n",
    "            res = run_cypher_query(driver, query)\n",
    "            logger.info(f\"Successfully imported {csv_file_path}\")\n",
    "            return res\n",
    "        except Exception as e:\n",
    "            logger.error(f\"Error importing {csv_file_path}: {e}\")"
   ]
  },
  {
   "cell_type": "code",
   "execution_count": 39,
   "metadata": {},
   "outputs": [
    {
     "name": "stderr",
     "output_type": "stream",
     "text": [
      "2024-09-06 08:20:43,625 - INFO - All nodes and relationships deleted from the database.\n"
     ]
    }
   ],
   "source": [
    "clear()"
   ]
  },
  {
   "cell_type": "code",
   "execution_count": 42,
   "metadata": {},
   "outputs": [],
   "source": [
    "from tqdm.notebook import tqdm"
   ]
  },
  {
   "cell_type": "code",
   "execution_count": 43,
   "metadata": {},
   "outputs": [
    {
     "data": {
      "application/vnd.jupyter.widget-view+json": {
       "model_id": "e1704d62a36b473eb8ed49cba53fa6a0",
       "version_major": 2,
       "version_minor": 0
      },
      "text/plain": [
       "  0%|          | 0/1 [00:00<?, ?it/s]"
      ]
     },
     "metadata": {},
     "output_type": "display_data"
    },
    {
     "name": "stderr",
     "output_type": "stream",
     "text": [
      "2024-09-06 08:21:16,229 - INFO - Successfully imported data/csv/000/articles.csv\n"
     ]
    }
   ],
   "source": [
    "article_query_template = \"\"\"\n",
    "LOAD CSV WITH HEADERS FROM 'file:///{csv_file_path}' AS row\n",
    "MERGE (a:Article {{title: row.title}})\n",
    "ON CREATE SET \n",
    "    a.title = row.title,\n",
    "    a.namespace_id = row.namespace_id,\n",
    "    a.namespace_name = row.namespace_name,\n",
    "    a.namespace_type = row.namespace_type,\n",
    "    a.parent_id = toInteger(row.parent_id),\n",
    "    a.timestamp = row.timestamp,\n",
    "    a.sha1 = row.sha1,\n",
    "    a.path = row.path;\n",
    "\"\"\"\n",
    "import_data(driver, path.rglob('**/articles.csv'), article_query_template)"
   ]
  },
  {
   "cell_type": "code",
   "execution_count": 45,
   "metadata": {},
   "outputs": [
    {
     "data": {
      "application/vnd.jupyter.widget-view+json": {
       "model_id": "58547a538e584e0b88fee2e6647f6f6b",
       "version_major": 2,
       "version_minor": 0
      },
      "text/plain": [
       "  0%|          | 0/1 [00:00<?, ?it/s]"
      ]
     },
     "metadata": {},
     "output_type": "display_data"
    },
    {
     "name": "stderr",
     "output_type": "stream",
     "text": [
      "2024-09-06 08:30:05,972 - INFO - Successfully imported data/csv/000/persons.csv\n"
     ]
    }
   ],
   "source": [
    "t = \"\"\"\n",
    "LOAD CSV WITH HEADERS FROM 'file:///{csv_file_path}' AS row\n",
    "MERGE (p:Author {{id: row.id}})\n",
    "ON CREATE SET\n",
    "    p.id = row.id,\n",
    "    p.name = row.name;\n",
    "\"\"\"\n",
    "import_data(driver, path.rglob('**/persons.csv'), t)"
   ]
  },
  {
   "cell_type": "code",
   "execution_count": 46,
   "metadata": {},
   "outputs": [
    {
     "name": "stdout",
     "output_type": "stream",
     "text": [
      "Importing author links...\n"
     ]
    },
    {
     "data": {
      "application/vnd.jupyter.widget-view+json": {
       "model_id": "becfac58805044afb8db03c16a1efdaa",
       "version_major": 2,
       "version_minor": 0
      },
      "text/plain": [
       "  0%|          | 0/1 [00:00<?, ?it/s]"
      ]
     },
     "metadata": {},
     "output_type": "display_data"
    },
    {
     "name": "stderr",
     "output_type": "stream",
     "text": [
      "2024-09-06 08:30:31,832 - INFO - Successfully imported data/csv/000/author_links.csv\n"
     ]
    }
   ],
   "source": [
    "click.echo(\"Importing author links...\")\n",
    "author_links_query_template = \"\"\"\n",
    "LOAD CSV WITH HEADERS FROM 'file:///{csv_file_path}' AS row\n",
    "MATCH (article:Article {{title: row.article}})\n",
    "MATCH (author:Author {{id: row.person}})\n",
    "MERGE (author)-[:AUTHORED]->(article)\n",
    "\"\"\"\n",
    "import_data(driver, path.rglob('**/author_links.csv'), author_links_query_template)"
   ]
  },
  {
   "cell_type": "code",
   "execution_count": 48,
   "metadata": {},
   "outputs": [
    {
     "name": "stdout",
     "output_type": "stream",
     "text": [
      "Importing article links...\n"
     ]
    },
    {
     "data": {
      "application/vnd.jupyter.widget-view+json": {
       "model_id": "4e43400b84564ed590258262846972b3",
       "version_major": 2,
       "version_minor": 0
      },
      "text/plain": [
       "  0%|          | 0/1 [00:00<?, ?it/s]"
      ]
     },
     "metadata": {},
     "output_type": "display_data"
    },
    {
     "name": "stderr",
     "output_type": "stream",
     "text": [
      "2024-09-06 08:43:48,282 - INFO - Successfully imported data/csv/000/article_links.csv\n"
     ]
    }
   ],
   "source": [
    "click.echo(\"Importing article links...\")\n",
    "article_links_query_template = \"\"\"\n",
    "LOAD CSV WITH HEADERS FROM 'file:///{csv_file_path}' AS row\n",
    "MATCH (a:Article {{title: row.from}})\n",
    "MATCH (b:Article {{title: row.to}})\n",
    "MERGE (a)-[:LINKS_TO]->(b)\n",
    "\"\"\"\n",
    "import_data(driver, path.rglob('**/article_links.csv'), article_links_query_template)"
   ]
  },
  {
   "cell_type": "code",
   "execution_count": 76,
   "metadata": {},
   "outputs": [
    {
     "name": "stdout",
     "output_type": "stream",
     "text": [
      "Importing redirects...\n",
      "[PosixPath('data/csv/000/redirects.csv')]\n"
     ]
    },
    {
     "data": {
      "application/vnd.jupyter.widget-view+json": {
       "model_id": "67fdf5b7974a48c2bdfcebb5164ca136",
       "version_major": 2,
       "version_minor": 0
      },
      "text/plain": [
       "  0%|          | 0/1 [00:00<?, ?it/s]"
      ]
     },
     "metadata": {},
     "output_type": "display_data"
    },
    {
     "name": "stderr",
     "output_type": "stream",
     "text": [
      "2024-09-06 09:10:51,810 - INFO - Received notification from DBMS server: {severity: INFORMATION} {code: Neo.ClientNotification.Statement.EagerOperator} {category: PERFORMANCE} {title: The execution plan for this query contains the Eager operator, which forces all dependent data to be materialized in main memory before proceeding} {description: Using LOAD CSV with a large data set in a query where the execution plan contains the Eager operator could potentially consume a lot of memory and is likely to not perform well. See the Neo4j Manual entry on the Eager operator for more information and hints on how problems could be avoided.} {position: None} for query: \"\\nLOAD CSV WITH HEADERS FROM 'file:///data/csv/000/redirects.csv' AS row\\nMERGE (a:Article {title: row.from})\\nMERGE (b:Article {title: row.to})\\nMERGE (a)-[:REDIRECTS_TO]->(b)\\n\"\n",
      "2024-09-06 09:10:51,811 - INFO - Successfully imported data/csv/000/redirects.csv\n"
     ]
    }
   ],
   "source": [
    "click.echo(\"Importing redirects...\")\n",
    "article_links_query_template = \"\"\"\n",
    "LOAD CSV WITH HEADERS FROM 'file:///{csv_file_path}' AS row\n",
    "MATCH (a:Article {{title: row.from}})\n",
    "MATCH (b:Article {{title: row.to}})\n",
    "MERGE (a)-[:REDIRECTS_TO]->(b)\n",
    "\"\"\"\n",
    "import_data(driver, path.rglob('**/redirects.csv'), article_links_query_template);"
   ]
  },
  {
   "cell_type": "code",
   "execution_count": 70,
   "metadata": {},
   "outputs": [
    {
     "name": "stdout",
     "output_type": "stream",
     "text": [
      "Importing sections...\n"
     ]
    },
    {
     "data": {
      "application/vnd.jupyter.widget-view+json": {
       "model_id": "0bce3c6f73a44f2686e60db3157d5aa3",
       "version_major": 2,
       "version_minor": 0
      },
      "text/plain": [
       "  0%|          | 0/1 [00:00<?, ?it/s]"
      ]
     },
     "metadata": {},
     "output_type": "display_data"
    },
    {
     "name": "stderr",
     "output_type": "stream",
     "text": [
      "2024-09-06 09:01:58,024 - INFO - Successfully imported data/csv/000/sections.csv\n"
     ]
    }
   ],
   "source": [
    "click.echo(\"Importing sections...\")\n",
    "article_links_query_template = \"\"\"\n",
    "LOAD CSV WITH HEADERS FROM 'file:///{csv_file_path}' AS row\n",
    "MERGE (s:Section {{id: row.id}})\n",
    "ON CREATE SET\n",
    "    s.id = row.id,\n",
    "    s.title = row.title,\n",
    "    s.level = row.level,\n",
    "    s.idx = row.idx;\n",
    "\"\"\"\n",
    "import_data(driver, path.rglob('**/sections.csv'), article_links_query_template);"
   ]
  },
  {
   "cell_type": "code",
   "execution_count": 78,
   "metadata": {},
   "outputs": [
    {
     "name": "stdout",
     "output_type": "stream",
     "text": [
      "Importing categories...\n"
     ]
    },
    {
     "data": {
      "application/vnd.jupyter.widget-view+json": {
       "model_id": "13d4bb343136460594375641de05ca84",
       "version_major": 2,
       "version_minor": 0
      },
      "text/plain": [
       "  0%|          | 0/1 [00:00<?, ?it/s]"
      ]
     },
     "metadata": {},
     "output_type": "display_data"
    },
    {
     "name": "stderr",
     "output_type": "stream",
     "text": [
      "2024-09-06 09:16:20,885 - INFO - Successfully imported data/csv/000/categories.csv\n"
     ]
    }
   ],
   "source": [
    "click.echo(\"Importing categories...\")\n",
    "article_links_query_template = \"\"\"\n",
    "LOAD CSV WITH HEADERS FROM 'file:///{csv_file_path}' AS row\n",
    "MERGE (c:Category {{id: row.id}})\n",
    "ON CREATE SET\n",
    "    c.id = row.id,\n",
    "    c.title = row.title,\n",
    "    c.type = row.type,\n",
    "    c.namespace_id = row.namespace_id,\n",
    "    c.namespace_name = row.namespace_name,\n",
    "    c.namespace_type = row.namespace_type,\n",
    "    c.parent_id = row.parent_id,\n",
    "    c.timestamp = row.timestamp,\n",
    "    c.sha1 = row.sha1,\n",
    "    c.path = row.path;\n",
    "\"\"\"\n",
    "import_data(driver, path.rglob('**/categories.csv'), article_links_query_template);"
   ]
  },
  {
   "cell_type": "code",
   "execution_count": 79,
   "metadata": {},
   "outputs": [
    {
     "name": "stdout",
     "output_type": "stream",
     "text": [
      "Importing category/article relationships...\n"
     ]
    },
    {
     "data": {
      "application/vnd.jupyter.widget-view+json": {
       "model_id": "82d58dbe0c6f489f8058f8568b5b99f2",
       "version_major": 2,
       "version_minor": 0
      },
      "text/plain": [
       "  0%|          | 0/1 [00:00<?, ?it/s]"
      ]
     },
     "metadata": {},
     "output_type": "display_data"
    },
    {
     "name": "stderr",
     "output_type": "stream",
     "text": [
      "2024-09-06 09:19:19,646 - INFO - Successfully imported data/csv/000/article_to_category.csv\n"
     ]
    }
   ],
   "source": [
    "click.echo(\"Importing category/article relationships...\")\n",
    "article_links_query_template = \"\"\"\n",
    "LOAD CSV WITH HEADERS FROM 'file:///{csv_file_path}' AS row\n",
    "MATCH (a:Article {{title: row.article}})\n",
    "MATCH (c:Article {{title: row.category}})\n",
    "MERGE (a)-[:IS_IN_CATEGORY]->(c)\n",
    "\"\"\"\n",
    "import_data(driver, path.rglob('**/article_to_category.csv'), article_links_query_template);"
   ]
  },
  {
   "cell_type": "code",
   "execution_count": 83,
   "metadata": {},
   "outputs": [
    {
     "name": "stdout",
     "output_type": "stream",
     "text": [
      "Importing category/article relationships...\n"
     ]
    },
    {
     "data": {
      "application/vnd.jupyter.widget-view+json": {
       "model_id": "4a0653f5c6e1415199ae0eff06d8c57a",
       "version_major": 2,
       "version_minor": 0
      },
      "text/plain": [
       "  0%|          | 0/1 [00:00<?, ?it/s]"
      ]
     },
     "metadata": {},
     "output_type": "display_data"
    },
    {
     "name": "stderr",
     "output_type": "stream",
     "text": [
      "2024-09-06 09:52:51,322 - INFO - Successfully imported data/csv/000/article_to_section_links.csv\n"
     ]
    }
   ],
   "source": [
    "click.echo(\"Importing article to section links...\")\n",
    "article_links_query_template = \"\"\"\n",
    "LOAD CSV WITH HEADERS FROM 'file:///{csv_file_path}' AS row\n",
    "MATCH (a:Article {{title: row.article}})\n",
    "MATCH (s:Section {{id: row.section}})\n",
    "MERGE (a)-[:LINKS_TO]->(s)\n",
    "\"\"\"\n",
    "import_data(driver, path.rglob('**/article_to_section_links.csv'), article_links_query_template);"
   ]
  },
  {
   "cell_type": "code",
   "execution_count": null,
   "metadata": {},
   "outputs": [],
   "source": []
  }
 ],
 "metadata": {
  "kernelspec": {
   "display_name": ".venv",
   "language": "python",
   "name": "python3"
  },
  "language_info": {
   "codemirror_mode": {
    "name": "ipython",
    "version": 3
   },
   "file_extension": ".py",
   "mimetype": "text/x-python",
   "name": "python",
   "nbconvert_exporter": "python",
   "pygments_lexer": "ipython3",
   "version": "3.11.8"
  }
 },
 "nbformat": 4,
 "nbformat_minor": 2
}
